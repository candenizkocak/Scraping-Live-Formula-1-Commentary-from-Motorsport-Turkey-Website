{
 "cells": [
  {
   "cell_type": "code",
   "execution_count": 38,
   "id": "7a3e8215",
   "metadata": {},
   "outputs": [],
   "source": [
    "from bs4 import BeautifulSoup as bs\n",
    "import requests\n",
    "import time\n",
    "import os"
   ]
  },
  {
   "cell_type": "code",
   "execution_count": 39,
   "id": "93744eb9",
   "metadata": {},
   "outputs": [
    {
     "name": "stdout",
     "output_type": "stream",
     "text": [
      "https://tr.motorsport.com/f1/live-text/canli-anlatim-britanya-gp-1119494/1119494/\n"
     ]
    }
   ],
   "source": [
    "link = input()"
   ]
  },
  {
   "cell_type": "code",
   "execution_count": 40,
   "id": "4a0c1c31",
   "metadata": {},
   "outputs": [],
   "source": [
    "response = requests.get(link)\n",
    "soup = bs(response.content)"
   ]
  },
  {
   "cell_type": "markdown",
   "id": "a4501852",
   "metadata": {},
   "source": [
    "# Write to the commentary.txt file manually"
   ]
  },
  {
   "cell_type": "code",
   "execution_count": 41,
   "id": "681e3a5b",
   "metadata": {},
   "outputs": [],
   "source": [
    "mydivs = soup.find(\"span\", {\"class\": \"mslt-msg_text-content\"})"
   ]
  },
  {
   "cell_type": "code",
   "execution_count": 42,
   "id": "fd8921e1",
   "metadata": {},
   "outputs": [],
   "source": [
    "last_commentary = mydivs.get_text(\" \")"
   ]
  },
  {
   "cell_type": "code",
   "execution_count": 43,
   "id": "ba15b817",
   "metadata": {},
   "outputs": [],
   "source": [
    "last_commentary = last_commentary + \" \""
   ]
  },
  {
   "cell_type": "code",
   "execution_count": 44,
   "id": "8f4aee8d",
   "metadata": {},
   "outputs": [],
   "source": [
    "directory = os.getcwd()\n",
    "filename = 'commentary.txt'\n",
    "\n",
    "file_path = os.path.join(directory, filename)"
   ]
  },
  {
   "cell_type": "code",
   "execution_count": 45,
   "id": "5239dce8",
   "metadata": {},
   "outputs": [],
   "source": [
    "text_file = open(file_path, \"w\", encoding=\"utf-8\")\n",
    "\n",
    "n = text_file.write(last_commentary)\n",
    "\n",
    "text_file.close()"
   ]
  },
  {
   "cell_type": "markdown",
   "id": "210a59db",
   "metadata": {},
   "source": [
    "# Update file after 5 seconds and format"
   ]
  },
  {
   "cell_type": "markdown",
   "id": "95a7e12e",
   "metadata": {},
   "source": [
    "Only use the code once you are sure everything is right and ready.\n",
    "\n",
    "The code below is an infinite loop. Please stop it once you don't need it to run anymore."
   ]
  },
  {
   "cell_type": "code",
   "execution_count": null,
   "id": "aa274258",
   "metadata": {},
   "outputs": [],
   "source": [
    "while True:\n",
    "    mydivs = soup.find(\"span\", {\"class\": \"mslt-msg_text-content\"})\n",
    "    \n",
    "    last_commentary = mydivs.get_text(\" \")\n",
    "    last_commentary = last_commentary + \"  |  \"\n",
    "    print(last_commentary)\n",
    "    \n",
    "    last_commentary = last_commentary\n",
    "    \n",
    "    text_file = open(file_path, \"w\", encoding=\"utf-8\")\n",
    "    \n",
    "    n = text_file.write(last_commentary)\n",
    "    \n",
    "    text_file.close() \n",
    "    \n",
    "    time.sleep(5)"
   ]
  }
 ],
 "metadata": {
  "kernelspec": {
   "display_name": "Python 3 (ipykernel)",
   "language": "python",
   "name": "python3"
  },
  "language_info": {
   "codemirror_mode": {
    "name": "ipython",
    "version": 3
   },
   "file_extension": ".py",
   "mimetype": "text/x-python",
   "name": "python",
   "nbconvert_exporter": "python",
   "pygments_lexer": "ipython3",
   "version": "3.10.9"
  }
 },
 "nbformat": 4,
 "nbformat_minor": 5
}
